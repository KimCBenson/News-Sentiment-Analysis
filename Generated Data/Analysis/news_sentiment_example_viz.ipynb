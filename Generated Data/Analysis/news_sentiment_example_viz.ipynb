{
 "cells": [
  {
   "cell_type": "code",
   "execution_count": 50,
   "id": "73bd8c1f-cebd-481d-a079-e8d88c5ad368",
   "metadata": {},
   "outputs": [],
   "source": [
    "# Import statements + setup\n",
    "import numpy as np\n",
    "import pandas as pd\n",
    "\n",
    "###############################\n",
    "from sklearn.svm import SVC\n",
    "from sklearn.tree import DecisionTreeClassifier\n",
    "from sklearn.ensemble import RandomForestClassifier\n",
    "from sklearn.model_selection import train_test_split\n",
    "from sklearn.preprocessing import StandardScaler\n",
    "from sklearn.metrics import confusion_matrix, precision_score, recall_score, f1_score, accuracy_score\n",
    "from sklearn.neighbors import KNeighborsClassifier\n",
    "from sklearn.preprocessing import LabelEncoder\n",
    "\n",
    "###############################\n",
    "# Visualization\n",
    "import seaborn as sns\n",
    "sns.set_style(\"whitegrid\")\n",
    "import matplotlib.pyplot as plt\n",
    "import matplotlib.colors as mcolors\n",
    "import matplotlib.cm as cm\n",
    "###############################\n",
    "\n",
    "#########################################################################\n",
    "# Set this to displays the enitre data:\n",
    "pd.set_option('display.max_rows', None)\n",
    "pd.set_option('display.max_columns', None)\n",
    "pd.set_option('display.max_colwidth', None)\n",
    "#########################################################################\n",
    "\n",
    "import warnings\n",
    "warnings.filterwarnings('ignore')\n",
    "\n",
    "def get_subset_exact(data, column, column_value):\n",
    "\n",
    "    \"\"\"\n",
    "    This function generates subsets based on categorical column value\n",
    "    Parameters:\n",
    "    data: data to filter -> Dtype: data frame\n",
    "    column: filter based on this column -> Dtype: string\n",
    "    column value: values that are equal to this are filterd -> Dtype: string\n",
    "    \"\"\"    \n",
    "    mask = data[column] == column_value\n",
    "    data_mask = data[mask]\n",
    "\n",
    "    return data_mask"
   ]
  },
  {
   "cell_type": "code",
   "execution_count": 80,
   "id": "ba3097f0-5683-46c3-a42b-c5808758ef37",
   "metadata": {},
   "outputs": [],
   "source": [
    "nyt_raw_data = pd.read_csv('NYT.csv')\n",
    "nyp_raw_data = pd.read_csv('NYP.csv')\n",
    "fox_raw_data = pd.read_csv('Fox.csv')"
   ]
  },
  {
   "cell_type": "code",
   "execution_count": 112,
   "id": "dd6b4bbd-6099-41fe-80d2-8966718f0e49",
   "metadata": {},
   "outputs": [],
   "source": [
    "nyt_trans_data = get_subset_exact(nyt_raw_data, 'Aspect', 'Trans')\n",
    "nyp_trans_data = get_subset_exact(nyp_raw_data, 'Aspect', 'Trans')\n",
    "fox_trans_data = get_subset_exact(fox_raw_data, 'Aspect', 'Trans')"
   ]
  },
  {
   "cell_type": "code",
   "execution_count": 118,
   "id": "6fd4e525-09f2-415b-b6a4-288dc646b7a5",
   "metadata": {},
   "outputs": [],
   "source": []
  },
  {
   "cell_type": "code",
   "execution_count": 224,
   "id": "64149412-3b70-415c-a22f-dd7937a22e67",
   "metadata": {},
   "outputs": [
    {
     "data": {
      "image/png": "[encoded data removed]",
      "text/plain": [
       "<Figure size 800x400 with 1 Axes>"
      ]
     },
     "metadata": {},
     "output_type": "display_data"
    }
   ],
   "source": [
    "# labels and data\n",
    "x_labels = ['New York Times', 'New York Post', 'Fox News']\n",
    "x = np.arange(len(x_labels))  # positions for the groups\n",
    "bar_width = 0.25\n",
    "\n",
    "negatives = [nyt_trans_data['Negative Aspect'].item(), \n",
    "             nyp_trans_data['Negative Aspect'].item(), \n",
    "             fox_trans_data['Negative Aspect'].item()]\n",
    "\n",
    "neutrals = [nyt_trans_data['Neutral Aspect'].item(), \n",
    "            nyp_trans_data['Neutral Aspect'].item(), \n",
    "            fox_trans_data['Neutral Aspect'].item()]\n",
    "\n",
    "positives = [nyt_trans_data['Positive Aspect'].item(), \n",
    "             nyp_trans_data['Positive Aspect'].item(), \n",
    "             fox_trans_data['Positive Aspect'].item()]\n",
    "\n",
    "# make plot\n",
    "plt.figure(figsize=(8, 4))\n",
    "\n",
    "plt.bar(x - bar_width, negatives, width=bar_width, color='red', label='Negative')\n",
    "plt.bar(x, neutrals, width=bar_width, color='blue', label='Neutral')\n",
    "plt.bar(x + bar_width, positives, width=bar_width, color='green', label='Positive')\n",
    "\n",
    "# x-axis settings\n",
    "plt.xticks(x, x_labels)\n",
    "\n",
    "# y-axis setting\n",
    "plt.ylim(0, 1)\n",
    "plt.ylabel(\"Sentiment Score\")\n",
    "\n",
    "# legend and title\n",
    "plt.legend()\n",
    "plt.title(\"Sentiment Per News Outlet for Aspect 'Trans'\")\n",
    "plt.tight_layout()\n",
    "plt.savefig(\"trans_sentiment.png\")\n",
    "plt.show()"
   ]
  },
  {
   "cell_type": "code",
   "execution_count": null,
   "id": "fe842069-ec56-4b2a-a8da-2cd1dbc1a8e9",
   "metadata": {},
   "outputs": [],
   "source": []
  },
  {
   "cell_type": "code",
   "execution_count": null,
   "id": "7b7fa3a1-3076-4f2d-bc88-9379dae22940",
   "metadata": {},
   "outputs": [],
   "source": []
  },
  {
   "cell_type": "code",
   "execution_count": null,
   "id": "11a20c67-7f75-48ec-8714-2d7a4017e079",
   "metadata": {},
   "outputs": [],
   "source": []
  }
 ],
 "metadata": {
  "kernelspec": {
   "display_name": "Python 3 (ipykernel)",
   "language": "python",
   "name": "python3"
  },
  "language_info": {
   "codemirror_mode": {
    "name": "ipython",
    "version": 3
   },
   "file_extension": ".py",
   "mimetype": "text/x-python",
   "name": "python",
   "nbconvert_exporter": "python",
   "pygments_lexer": "ipython3",
   "version": "3.11.7"
  }
 },
 "nbformat": 4,
 "nbformat_minor": 5
}
